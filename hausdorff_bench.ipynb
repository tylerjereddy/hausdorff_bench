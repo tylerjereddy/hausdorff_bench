{
 "cells": [
  {
   "cell_type": "code",
   "execution_count": 1,
   "metadata": {
    "collapsed": false
   },
   "outputs": [],
   "source": [
    "import scipy\n",
    "import scipy.spatial\n",
    "import numpy as np\n",
    "import matplotlib\n",
    "import matplotlib.pyplot as plt\n",
    "%matplotlib inline\n",
    "%load_ext autoreload\n",
    "%autoreload 2\n",
    "import time\n",
    "%load_ext line_profiler\n",
    "import line_profiler\n",
    "%load_ext Cython\n"
   ]
  },
  {
   "cell_type": "code",
   "execution_count": 2,
   "metadata": {
    "collapsed": true
   },
   "outputs": [],
   "source": [
    "def directed_hausdorff_brute_force(u, v):\n",
    "    return max(np.amin(scipy.spatial.distance.cdist(u,v), axis = 1))\n"
   ]
  },
  {
   "cell_type": "code",
   "execution_count": 3,
   "metadata": {
    "collapsed": true
   },
   "outputs": [],
   "source": [
    "from Cython.Compiler.Options import directive_defaults\n",
    "\n",
    "directive_defaults['linetrace'] = True\n",
    "directive_defaults['binding'] = True"
   ]
  },
  {
   "cell_type": "code",
   "execution_count": 4,
   "metadata": {
    "collapsed": false
   },
   "outputs": [],
   "source": [
    "%%cython -f --compile-args=-DCYTHON_TRACE=1\n",
    "\n",
    "import numpy as np\n",
    "cimport numpy as np\n",
    "cimport cython\n",
    "from libc.math cimport sqrt\n",
    "\n",
    "@cython.boundscheck(False)\n",
    "def directed_hausdorff(np.ndarray[np.float64_t, ndim =2] ar1, np.ndarray[np.float64_t, ndim =2] ar2):\n",
    "    \"\"\" Calculates the directed Hausdorff distance between point sets.\n",
    "    \n",
    "    Notes\n",
    "    ----------\n",
    "    Uses the early break technique and the random sampling approach described\n",
    "    by Taha and Hanbury (2015) IEEE Transactions On Pattern Analysis And Machine\n",
    "    Intelligence 37. Although worst-case performance is polynomial (as with the\n",
    "    brute force algorithm), this is exceedingly unlikely in practice, and\n",
    "    almost-linear time complexity performance can normally be expected for the\n",
    "    average case.\n",
    "    \"\"\"\n",
    "\n",
    "    # shuffling the points in each array generally increases the likelihood of\n",
    "    # an advantageous break in the inner search loop and never decreases the\n",
    "    # performance of the algorithm\n",
    "    cdef double cmax, cmin\n",
    "    cdef int break_occurred\n",
    "    cdef int N1 = ar1.shape[0]\n",
    "    cdef int N2 = ar2.shape[0]\n",
    "    cdef int data_dims = ar1.shape[1]\n",
    "    cdef double square_distance = 0\n",
    "    cdef np.float64_t d\n",
    "\n",
    "    np.random.shuffle(ar1)\n",
    "    np.random.shuffle(ar2)\n",
    "                                                                                                                                                                                                     \n",
    "    cmax = 0 \n",
    "    for i in range(N1):\n",
    "        break_occurred = 0\n",
    "        cmin = np.inf\n",
    "        for j in range(N2):\n",
    "            d = 0\n",
    "            for k in range(data_dims):\n",
    "                d += ((ar1[<unsigned int> i,<unsigned int> k] - ar2[<unsigned int> j,<unsigned int> k]) * (ar1[<unsigned int> i,<unsigned int> k] - ar2[<unsigned int> j,<unsigned int> k]))\n",
    "            if d < cmax: # early break\n",
    "                break_occurred += 1\n",
    "                break\n",
    "            if d < cmin:\n",
    "                cmin = d\n",
    "        if cmin > cmax and cmin != np.inf and break_occurred == 0:\n",
    "            cmax = cmin\n",
    "    return sqrt(cmax)\n"
   ]
  },
  {
   "cell_type": "code",
   "execution_count": 5,
   "metadata": {
    "collapsed": false
   },
   "outputs": [],
   "source": [
    "points_per_array = 400\n",
    "u = np.random.random((points_per_array, 3))\n",
    "v = np.random.random((points_per_array, 3))\n",
    "\n",
    "%lprun -f directed_hausdorff directed_hausdorff(u,v)"
   ]
  },
  {
   "cell_type": "code",
   "execution_count": 6,
   "metadata": {
    "collapsed": true
   },
   "outputs": [],
   "source": [
    "def test_approach(func, u, v, num_times = 3):\n",
    "    times = []\n",
    "    for i in range(num_times):\n",
    "        start = time.time()\n",
    "        d = func(u,v)\n",
    "        end = time.time()\n",
    "        times.append(end - start)\n",
    "    print 'd:', d\n",
    "    return np.mean(times)\n"
   ]
  },
  {
   "cell_type": "code",
   "execution_count": 7,
   "metadata": {
    "collapsed": false
   },
   "outputs": [
    {
     "name": "stdout",
     "output_type": "stream",
     "text": [
      "d: 0.257819621563\n",
      "d: 0.257819621563\n",
      "d: 0.154930977004\n",
      "d: 0.154930977004\n",
      "d: 0.125051769694\n",
      "d: 0.125051769694\n",
      "d: 0.108132213537\n",
      "d: 0.108132213537\n",
      "d: 0.100616985919\n",
      "d: 0.100616985919\n",
      "d: 0.0943412926703\n",
      "d: 0.0943412926703\n",
      "d: 0.0916088613793\n",
      "d: 0.0916088613793\n",
      "d: 0.0850336713573\n",
      "d: 0.0850336713573\n",
      "d: 0.0847148815493\n",
      "d: 0.0847148815493\n",
      "d: 0.0774039423849\n",
      "d: 0.0774039423849\n",
      "d: 0.0839340157362\n",
      "d: 0.0839340157362\n",
      "d: 0.0819356768232\n",
      "d: 0.0819356768232\n",
      "d: 0.0702829712389\n",
      "d: 0.0702829712389\n",
      "d: 0.0680545525196\n",
      "d: 0.0680545525196\n",
      "d: 0.070777962148\n",
      "d: 0.070777962148\n",
      "d: 0.0667287037731\n",
      "d: 0.0667287037731\n"
     ]
    }
   ],
   "source": [
    "# interleave performance tests\n",
    "brute_times = []\n",
    "new_algorithm_times = []\n",
    "total_points = np.linspace(400,20000,num=16)\n",
    "for point_total in total_points:\n",
    "    points_per_array = int(point_total / 2)\n",
    "    u = np.random.random((points_per_array, 3))\n",
    "    v = np.random.random((points_per_array, 3))\n",
    "    \n",
    "    # brute force approach bench\n",
    "    brute_force_avg_time = test_approach(directed_hausdorff_brute_force, u, v, num_times = 3)\n",
    "    brute_times.append(brute_force_avg_time)\n",
    "    \n",
    "    # new algorithm bench\n",
    "    new_algorithm_avg_time = test_approach(directed_hausdorff, u, v, num_times = 3)\n",
    "    new_algorithm_times.append(new_algorithm_avg_time)"
   ]
  },
  {
   "cell_type": "code",
   "execution_count": 8,
   "metadata": {
    "collapsed": false
   },
   "outputs": [
    {
     "data": {
      "image/png": "[encoded data removed]",
      "text/plain": [
       "<matplotlib.figure.Figure at 0x7f8dc21e6910>"
      ]
     },
     "metadata": {},
     "output_type": "display_data"
    }
   ],
   "source": [
    "fig = plt.figure()\n",
    "ax = fig.add_subplot('111')\n",
    "ax.scatter(total_points, brute_times, color = 'black', edgecolor='none', label = 'brute force', s = 50)\n",
    "ax.plot(total_points, brute_times, color = 'black')\n",
    "ax.scatter(total_points, new_algorithm_times, color = 'green', edgecolor='none', label = 'new algorithm', s = 50)\n",
    "ax.plot(total_points, new_algorithm_times, color = 'green')\n",
    "ax.legend(loc=2, scatterpoints=1, fontsize=18)\n",
    "ax.set_ylabel('Time (s)', fontsize = 18)\n",
    "ax.set_xlabel('total points', fontsize = 18)\n",
    "ax.set_title('Directed Hausdorff distance benchmarks \\nfor 3D data sets (N = 3 trials for each point)', fontsize = 18)\n",
    "ax.set_xlim(-100,25000)\n",
    "fig.set_size_inches(8,6)\n",
    "fig.savefig('hausdorff_bench.png', dpi = 300)"
   ]
  }
 ],
 "metadata": {
  "kernelspec": {
   "display_name": "Python 2",
   "language": "python",
   "name": "python2"
  },
  "language_info": {
   "codemirror_mode": {
    "name": "ipython",
    "version": 2
   },
   "file_extension": ".py",
   "mimetype": "text/x-python",
   "name": "python",
   "nbconvert_exporter": "python",
   "pygments_lexer": "ipython2",
   "version": "2.7.12"
  }
 },
 "nbformat": 4,
 "nbformat_minor": 0
}
